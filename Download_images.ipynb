{
 "cells": [
  {
   "cell_type": "code",
   "execution_count": 1,
   "id": "9c351d35-6015-499b-b91e-cd5e35c29739",
   "metadata": {},
   "outputs": [],
   "source": [
    "import os\n",
    "import requests\n",
    "from duckduckgo_search import DDGS\n",
    "from fastcore.all import *\n",
    "from PIL import Image"
   ]
  },
  {
   "cell_type": "code",
   "execution_count": 2,
   "id": "0d67410c-684f-4204-8c91-abc42273999d",
   "metadata": {},
   "outputs": [],
   "source": [
    "max_img = 100\n",
    "def search_images(term, max_images=max_img):\n",
    "    print(f\"Searching for '{term}'\")\n",
    "    with DDGS() as ddgs:\n",
    "        search_results = ddgs.images(keywords=term)\n",
    "        image_data = list(search_results)\n",
    "        image_urls = [item.get(\"image\") for item in image_data[:max_images]]\n",
    "        return L(image_urls)"
   ]
  },
  {
   "cell_type": "code",
   "execution_count": 3,
   "id": "9f4b85a7-1430-4712-b705-3b25b75bfbb4",
   "metadata": {},
   "outputs": [],
   "source": [
    "def download_images(keyword, folder_path, max_images=10):\n",
    "    urls = search_images(keyword, max_images)\n",
    "    os.makedirs(folder_path, exist_ok = True)\n",
    "    for i, url in enumerate(urls):\n",
    "        image_filename = f\"{keyword}_{i + 1}.jpg\"\n",
    "        image_path = os.path.join(folder_path, image_filename)\n",
    "        try:\n",
    "            img_data = requests.get(url).content\n",
    "            img = Image.open(io.BytesIO(img_data))\n",
    "            img.verify()\n",
    "            with open(image_path, \"wb\") as f:\n",
    "                f.write(img_data)\n",
    "            print(f\"Downloaded: {image_filename}\")\n",
    "        except Exception as e:\n",
    "            print(f\"Error downloading {image_filename}: {e}\")"
   ]
  },
  {
   "cell_type": "code",
   "execution_count": 6,
   "id": "4f6d0807-059e-4fb4-aaac-78b3f739edb5",
   "metadata": {},
   "outputs": [
    {
     "name": "stdout",
     "output_type": "stream",
     "text": [
      "Searching for 'plushies'\n",
      "Downloaded: plushies_1.jpg\n",
      "Downloaded: plushies_2.jpg\n",
      "Downloaded: plushies_3.jpg\n",
      "Downloaded: plushies_4.jpg\n",
      "Downloaded: plushies_5.jpg\n",
      "Downloaded: plushies_6.jpg\n",
      "Downloaded: plushies_7.jpg\n",
      "Downloaded: plushies_8.jpg\n",
      "Downloaded: plushies_9.jpg\n",
      "Downloaded: plushies_10.jpg\n",
      "Downloaded: plushies_11.jpg\n",
      "Downloaded: plushies_12.jpg\n",
      "Downloaded: plushies_13.jpg\n",
      "Downloaded: plushies_14.jpg\n",
      "Downloaded: plushies_15.jpg\n",
      "Downloaded: plushies_16.jpg\n",
      "Downloaded: plushies_17.jpg\n",
      "Downloaded: plushies_18.jpg\n",
      "Downloaded: plushies_19.jpg\n",
      "Downloaded: plushies_20.jpg\n",
      "Downloaded: plushies_21.jpg\n",
      "Error downloading plushies_22.jpg: cannot identify image file <_io.BytesIO object at 0x000002115D1B4AE0>\n",
      "Downloaded: plushies_23.jpg\n",
      "Downloaded: plushies_24.jpg\n",
      "Downloaded: plushies_25.jpg\n",
      "Downloaded: plushies_26.jpg\n",
      "Downloaded: plushies_27.jpg\n",
      "Downloaded: plushies_28.jpg\n",
      "Downloaded: plushies_29.jpg\n",
      "Downloaded: plushies_30.jpg\n",
      "Downloaded: plushies_31.jpg\n",
      "Downloaded: plushies_32.jpg\n",
      "Downloaded: plushies_33.jpg\n",
      "Downloaded: plushies_34.jpg\n",
      "Downloaded: plushies_35.jpg\n",
      "Downloaded: plushies_36.jpg\n",
      "Downloaded: plushies_37.jpg\n",
      "Downloaded: plushies_38.jpg\n",
      "Downloaded: plushies_39.jpg\n",
      "Downloaded: plushies_40.jpg\n",
      "Downloaded: plushies_41.jpg\n",
      "Downloaded: plushies_42.jpg\n",
      "Downloaded: plushies_43.jpg\n",
      "Downloaded: plushies_44.jpg\n",
      "Downloaded: plushies_45.jpg\n",
      "Downloaded: plushies_46.jpg\n",
      "Downloaded: plushies_47.jpg\n",
      "Downloaded: plushies_48.jpg\n",
      "Downloaded: plushies_49.jpg\n",
      "Downloaded: plushies_50.jpg\n",
      "Downloaded: plushies_51.jpg\n",
      "Downloaded: plushies_52.jpg\n",
      "Downloaded: plushies_53.jpg\n",
      "Error downloading plushies_54.jpg: cannot identify image file <_io.BytesIO object at 0x000002115D1B4AE0>\n",
      "Downloaded: plushies_55.jpg\n",
      "Downloaded: plushies_56.jpg\n",
      "Downloaded: plushies_57.jpg\n",
      "Downloaded: plushies_58.jpg\n",
      "Downloaded: plushies_59.jpg\n",
      "Downloaded: plushies_60.jpg\n",
      "Downloaded: plushies_61.jpg\n",
      "Downloaded: plushies_62.jpg\n",
      "Downloaded: plushies_63.jpg\n",
      "Downloaded: plushies_64.jpg\n",
      "Downloaded: plushies_65.jpg\n",
      "Downloaded: plushies_66.jpg\n",
      "Downloaded: plushies_67.jpg\n",
      "Downloaded: plushies_68.jpg\n",
      "Downloaded: plushies_69.jpg\n",
      "Downloaded: plushies_70.jpg\n",
      "Downloaded: plushies_71.jpg\n",
      "Downloaded: plushies_72.jpg\n",
      "Downloaded: plushies_73.jpg\n",
      "Downloaded: plushies_74.jpg\n",
      "Downloaded: plushies_75.jpg\n",
      "Downloaded: plushies_76.jpg\n",
      "Downloaded: plushies_77.jpg\n",
      "Downloaded: plushies_78.jpg\n",
      "Downloaded: plushies_79.jpg\n",
      "Downloaded: plushies_80.jpg\n",
      "Downloaded: plushies_81.jpg\n",
      "Downloaded: plushies_82.jpg\n",
      "Downloaded: plushies_83.jpg\n",
      "Downloaded: plushies_84.jpg\n",
      "Downloaded: plushies_85.jpg\n",
      "Downloaded: plushies_86.jpg\n",
      "Downloaded: plushies_87.jpg\n",
      "Downloaded: plushies_88.jpg\n",
      "Downloaded: plushies_89.jpg\n",
      "Downloaded: plushies_90.jpg\n",
      "Downloaded: plushies_91.jpg\n",
      "Downloaded: plushies_92.jpg\n",
      "Downloaded: plushies_93.jpg\n",
      "Downloaded: plushies_94.jpg\n",
      "Downloaded: plushies_95.jpg\n",
      "Downloaded: plushies_96.jpg\n",
      "Downloaded: plushies_97.jpg\n",
      "Downloaded: plushies_98.jpg\n",
      "Downloaded: plushies_99.jpg\n",
      "Downloaded: plushies_100.jpg\n",
      "Images for 'plushies' saved in folder: plushies\n"
     ]
    }
   ],
   "source": [
    "keywords_list = [\"plushies\"]\n",
    "for keyword in keywords_list:\n",
    "    folder_name = keyword.replace(\" \",\"_\").lower()\n",
    "    download_images(keyword, folder_path=folder_name, max_images=max_img)\n",
    "    print(f\"Images for '{keyword}' saved in folder: {folder_name}\")"
   ]
  },
  {
   "cell_type": "code",
   "execution_count": null,
   "id": "7a6a4de5-8719-42b6-a645-72766960ad0c",
   "metadata": {},
   "outputs": [],
   "source": []
  },
  {
   "cell_type": "code",
   "execution_count": null,
   "id": "0a6ea32e-acaf-4a00-853a-dc096adf5036",
   "metadata": {},
   "outputs": [],
   "source": []
  },
  {
   "cell_type": "code",
   "execution_count": null,
   "id": "c357be18-d53d-48e0-a0af-a7f419bd11a2",
   "metadata": {},
   "outputs": [],
   "source": []
  },
  {
   "cell_type": "code",
   "execution_count": null,
   "id": "760e0c9b-6440-455c-ac27-81de7d6f6257",
   "metadata": {},
   "outputs": [],
   "source": []
  },
  {
   "cell_type": "code",
   "execution_count": null,
   "id": "58c8e636-c672-43d7-a142-55476138eb5d",
   "metadata": {},
   "outputs": [],
   "source": []
  },
  {
   "cell_type": "code",
   "execution_count": null,
   "id": "f704d90e-821e-4b4e-8f0a-8e296a60fb1e",
   "metadata": {},
   "outputs": [],
   "source": []
  },
  {
   "cell_type": "code",
   "execution_count": null,
   "id": "6c1f53b3-954a-4b4d-8118-b2608cceb244",
   "metadata": {},
   "outputs": [],
   "source": []
  },
  {
   "cell_type": "code",
   "execution_count": null,
   "id": "0674832f-4f05-4991-818c-26242c09b6c9",
   "metadata": {},
   "outputs": [],
   "source": []
  },
  {
   "cell_type": "code",
   "execution_count": null,
   "id": "5b6be804-f914-48e3-8071-bdb4c40233fb",
   "metadata": {},
   "outputs": [],
   "source": []
  },
  {
   "cell_type": "code",
   "execution_count": null,
   "id": "84393768-abce-40f7-bc82-dd2368410cac",
   "metadata": {},
   "outputs": [],
   "source": []
  },
  {
   "cell_type": "code",
   "execution_count": null,
   "id": "fd03ca43-7ade-46e3-98c4-38578ea97146",
   "metadata": {},
   "outputs": [],
   "source": []
  },
  {
   "cell_type": "code",
   "execution_count": null,
   "id": "9e760101-2cbf-46da-a008-9b6e5e648d4e",
   "metadata": {},
   "outputs": [],
   "source": []
  },
  {
   "cell_type": "code",
   "execution_count": null,
   "id": "6c82b49c-5097-4c3f-9f6d-46828f7424b6",
   "metadata": {},
   "outputs": [],
   "source": []
  },
  {
   "cell_type": "code",
   "execution_count": null,
   "id": "fab0e529-62ed-46e3-8c37-99b5f3ebf554",
   "metadata": {},
   "outputs": [],
   "source": []
  }
 ],
 "metadata": {
  "kernelspec": {
   "display_name": "Python 3 (ipykernel)",
   "language": "python",
   "name": "python3"
  },
  "language_info": {
   "codemirror_mode": {
    "name": "ipython",
    "version": 3
   },
   "file_extension": ".py",
   "mimetype": "text/x-python",
   "name": "python",
   "nbconvert_exporter": "python",
   "pygments_lexer": "ipython3",
   "version": "3.11.8"
  }
 },
 "nbformat": 4,
 "nbformat_minor": 5
}
